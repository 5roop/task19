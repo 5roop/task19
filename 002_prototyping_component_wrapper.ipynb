{
 "cells": [
  {
   "cell_type": "code",
   "execution_count": 3,
   "metadata": {},
   "outputs": [
    {
     "name": "stdout",
     "output_type": "stream",
     "text": [
      "(Nismo dobili tekst - govori s mjesta) \tGap_inaudible\n",
      "(Davanje svečane izjave) \tIncident_action\n",
      "(Nastavak rada poslije pauze) \tNote_time\n",
      "/Upadice/ \tVocal_interruption\n",
      "/PAUZA/ \tIncident_break\n",
      "/PAUZA/ \tIncident_break\n",
      "/Upadice/ \tVocal_interruption\n",
      "/Pauza/ \tIncident_break\n",
      "/Upadice/ \tVocal_interruption\n",
      "/Upadice/ \tVocal_interruption\n",
      "(Nakon pauze) \tNote_time\n",
      "(Aplauz) \tKinesic_applause\n",
      "( sa mjesta) \tVocal_interruption\n",
      "(Nastavak rada poslije pauze) \tNote_time\n",
      "(nakon pauze) \tNote_time\n",
      "(Nismo dobili tekst - govori s mjesta) \tGap_inaudible\n",
      "(aplauz) \tKinesic_applause\n",
      "(Davanje svečane izjave) \tIncident_action\n",
      "(Govori s mjesta) \tVocal_interruption\n",
      "( Ne čuje se jasno jer govori s mjesta) \tGap_inaudible\n"
     ]
    }
   ],
   "source": [
    "test_file = \"../SRB/S/ParlaMint-RS_T08S3.xml\"\n",
    "test_file = \"../S/ParlaMint-HR_T09_S01.xml\"\n",
    "test_file = \"../BiH/S/ParlaMint-BA_T02S03.xml\"\n",
    "\n",
    "from utils import fix_component\n",
    "fix_component(\"./002_test_in.xml\", \"./002_test_out.xml\")\n",
    "\n",
    "test_file = \"../SRB/S/ParlaMint-RS_T08S3.xml\"\n",
    "test_file = \"../S/ParlaMint-HR_T09_S01.xml\"\n",
    "test_file = \"../BiH/S/ParlaMint-BA_T02S03.xml\"\n",
    "\n",
    "\n",
    "fix_component(test_file, \"./002_test_out.xml\")"
   ]
  },
  {
   "cell_type": "code",
   "execution_count": null,
   "metadata": {},
   "outputs": [],
   "source": []
  },
  {
   "cell_type": "code",
   "execution_count": null,
   "metadata": {},
   "outputs": [],
   "source": []
  },
  {
   "cell_type": "code",
   "execution_count": null,
   "metadata": {},
   "outputs": [],
   "source": []
  },
  {
   "cell_type": "code",
   "execution_count": null,
   "metadata": {},
   "outputs": [],
   "source": []
  }
 ],
 "metadata": {
  "kernelspec": {
   "display_name": "base",
   "language": "python",
   "name": "python3"
  },
  "language_info": {
   "codemirror_mode": {
    "name": "ipython",
    "version": 3
   },
   "file_extension": ".py",
   "mimetype": "text/x-python",
   "name": "python",
   "nbconvert_exporter": "python",
   "pygments_lexer": "ipython3",
   "version": "3.9.7"
  },
  "orig_nbformat": 4,
  "vscode": {
   "interpreter": {
    "hash": "2d30c88cb7145d662123f76f8c64609bc18e52940d2861adec2407b68f2e334f"
   }
  }
 },
 "nbformat": 4,
 "nbformat_minor": 2
}
