{
 "cells": [
  {
   "cell_type": "code",
   "execution_count": 3,
   "metadata": {},
   "outputs": [
    {
     "name": "stdout",
     "output_type": "stream",
     "text": [
      "(Nismo dobili tekst - govori s mjesta) \tGap_inaudible\n",
      "(Davanje svečane izjave) \tIncident_action\n",
      "(Nastavak rada poslije pauze) \tNote_time\n",
      "/Upadice/ \tVocal_interruption\n",
      "/PAUZA/ \tIncident_break\n",
      "/PAUZA/ \tIncident_break\n",
      "/Upadice/ \tVocal_interruption\n",
      "/Pauza/ \tIncident_break\n",
      "/Upadice/ \tVocal_interruption\n",
      "/Upadice/ \tVocal_interruption\n",
      "(Nakon pauze) \tNote_time\n",
      "(Aplauz) \tKinesic_applause\n",
      "( sa mjesta) \tVocal_interruption\n",
      "(Nastavak rada poslije pauze) \tNote_time\n",
      "(nakon pauze) \tNote_time\n",
      "(Nismo dobili tekst - govori s mjesta) \tGap_inaudible\n",
      "(aplauz) \tKinesic_applause\n",
      "(Davanje svečane izjave) \tIncident_action\n",
      "(Govori s mjesta) \tVocal_interruption\n",
      "( Ne čuje se jasno jer govori s mjesta) \tGap_inaudible\n"
     ]
    }
   ],
   "source": [
    "test_file = \"../SRB/S/ParlaMint-RS_T08S3.xml\"\n",
    "test_file = \"../S/ParlaMint-HR_T09_S01.xml\"\n",
    "test_file = \"../BiH/S/ParlaMint-BA_T02S03.xml\"\n",
    "\n",
    "from utils import fix_component\n",
    "fix_component(\"./002_test_in.xml\", \"./002_test_out.xml\")\n",
    "\n",
    "test_file = \"../SRB/S/ParlaMint-RS_T08S3.xml\"\n",
    "test_file = \"../S/ParlaMint-HR_T09_S01.xml\"\n",
    "test_file = \"../BiH/S/ParlaMint-BA_T02S03.xml\"\n",
    "\n",
    "\n",
    "fix_component(test_file, \"./002_test_out.xml\")"
   ]
  },
  {
   "cell_type": "code",
   "execution_count": null,
   "metadata": {},
   "outputs": [],
   "source": []
  },
  {
   "cell_type": "code",
   "execution_count": null,
   "metadata": {},
   "outputs": [],
   "source": []
  },
  {
   "cell_type": "code",
   "execution_count": null,
   "metadata": {},
   "outputs": [],
   "source": []
  },
  {
   "cell_type": "code",
   "execution_count": null,
   "metadata": {},
   "outputs": [],
   "source": []
  },
  {
   "cell_type": "code",
   "execution_count": 2,
   "metadata": {},
   "outputs": [
    {
     "ename": "NameError",
     "evalue": "name 'results' is not defined",
     "output_type": "error",
     "traceback": [
      "\u001b[0;31m---------------------------------------------------------------------------\u001b[0m",
      "\u001b[0;31mNameError\u001b[0m                                 Traceback (most recent call last)",
      "\u001b[0;32m/tmp/ipykernel_4041944/688278625.py\u001b[0m in \u001b[0;36m<module>\u001b[0;34m\u001b[0m\n\u001b[1;32m      1\u001b[0m \u001b[0;32mfrom\u001b[0m \u001b[0mxml\u001b[0m\u001b[0;34m.\u001b[0m\u001b[0metree\u001b[0m\u001b[0;34m.\u001b[0m\u001b[0mElementTree\u001b[0m \u001b[0;32mimport\u001b[0m \u001b[0mElement\u001b[0m\u001b[0;34m,\u001b[0m \u001b[0mSubElement\u001b[0m\u001b[0;34m,\u001b[0m \u001b[0mtostring\u001b[0m\u001b[0;34m,\u001b[0m \u001b[0mXML\u001b[0m\u001b[0;34m,\u001b[0m \u001b[0mparse\u001b[0m\u001b[0;34m,\u001b[0m \u001b[0mfromstring\u001b[0m\u001b[0;34m\u001b[0m\u001b[0;34m\u001b[0m\u001b[0m\n\u001b[0;32m----> 2\u001b[0;31m \u001b[0mdiv\u001b[0m \u001b[0;34m=\u001b[0m \u001b[0mfromstring\u001b[0m\u001b[0;34m(\u001b[0m\u001b[0mresults\u001b[0m\u001b[0;34m[\u001b[0m\u001b[0;34m\"body\"\u001b[0m\u001b[0;34m]\u001b[0m\u001b[0;34m)\u001b[0m\u001b[0;34m\u001b[0m\u001b[0;34m\u001b[0m\u001b[0m\n\u001b[0m\u001b[1;32m      3\u001b[0m \u001b[0mfirstu\u001b[0m \u001b[0;34m=\u001b[0m \u001b[0mdiv\u001b[0m\u001b[0;34m.\u001b[0m\u001b[0mfindall\u001b[0m\u001b[0;34m(\u001b[0m\u001b[0;34m\"u\"\u001b[0m\u001b[0;34m)\u001b[0m\u001b[0;34m[\u001b[0m\u001b[0;36m0\u001b[0m\u001b[0;34m]\u001b[0m\u001b[0;34m\u001b[0m\u001b[0;34m\u001b[0m\u001b[0m\n\u001b[1;32m      4\u001b[0m \u001b[0;34m\u001b[0m\u001b[0m\n\u001b[1;32m      5\u001b[0m firstu.attrib = {'who': '#ŠoljićVladimirovičMomčilo',\n",
      "\u001b[0;31mNameError\u001b[0m: name 'results' is not defined"
     ]
    }
   ],
   "source": [
    "from xml.etree.ElementTree import Element, SubElement, tostring, XML, parse, fromstring\n",
    "div = fromstring(results[\"body\"])\n",
    "firstu = div.findall(\"u\")[0]\n",
    "\n",
    "firstu.attrib = {'who': '#ŠoljićVladimirovičMomčilo',\n",
    " 'ana': '#chair',\n",
    " '{http://www.w3.org/XML/1998/namespace}id': 'ParlaMint-BIH_DN.T2.S03.u47',\n",
    " 'n': '0'}\n",
    "firstu.attrib"
   ]
  },
  {
   "cell_type": "code",
   "execution_count": null,
   "metadata": {},
   "outputs": [],
   "source": [
    "def fix_us(us: list):\n",
    "    returnlist = []\n",
    "    \n",
    "    for u in us:\n",
    "        n = 0\n",
    "        attribs = u.attrib\n",
    "        xmlid = attribs['{http://www.w3.org/XML/1998/namespace}id']\n",
    "        del attribs['{http://www.w3.org/XML/1998/namespace}id']\n",
    "        attribs[\"xml:id\"] = xmlid\n",
    "        newu = Element(\"u\")\n",
    "        newu.attrib = attribs\n",
    "        segs = u.findall(\"seg\")\n",
    "        texts = [s.text for s in segs]\n",
    "        text = \" \".join(texts)\n",
    "        content = extract_remarks(text)\n",
    "        for c in content:\n",
    "            if isinstance(c, str):\n",
    "                seg = subElement(newu, \"seg\")\n",
    "                seg.set(\"xml:id\", xmlid+f\".s{n}\")\n",
    "                seg.text = c\n",
    "                n = n + 1\n",
    "            if isinstance(c, list):\n",
    "                # push what we have so far into list:\n",
    "                returnlist.append(newu)\n",
    "                # make new elements based on interruption type:\n",
    "                element = remark_handler(c)\n",
    "                returnlist.append(element)\n",
    "                # make new u\n",
    "                newu = Element(\"u\")\n",
    "                newu.attrib = attribs\n",
    "        # Push last element, if needed\n",
    "        if isinstance(content[-1], str):\n",
    "            returnlist.append(newu)\n",
    "    return returnlist\n",
    "            \n",
    "def remark_handler(c: list):\n",
    "    name, text = c[0], c[1]\n",
    "    if name == \"Gap_inaudible\":\n",
    "        gap = Element(\"gap\")\n",
    "        gap.set(\"reason\", \"inaudible\")\n",
    "        desc = SubElement(gap, \"desc\")\n",
    "        desc.text = text\n",
    "        return gap\n",
    "    elif name.startswith(\"Incident\"):\n",
    "        incident = Element(\"incident\")\n",
    "        if \"action\" in name:\n",
    "            incident.set(\"type\", \"action\")\n",
    "        else:\n",
    "            incident.set(\"type\", \"break\")\n",
    "        desc = SubElement(incident, \"desc\")\n",
    "        desc.text = text\n",
    "        return incident\n",
    "    elif name.startswith(\"Vocal\"):\n",
    "        vocal = Element(\"vocal\")\n",
    "        if \"interruption\" in name:\n",
    "            vocal.set(\"type\", \"interruption\")\n",
    "        else:\n",
    "            vocal.set(\"type\", \"murmur\")\n",
    "        desc = SubElement(vocal, \"desc\")\n",
    "        desc.text = text\n",
    "        return vocal\n",
    "    elif name.startswith(\"Kinesic\"):\n",
    "        kinesic = Element(\"kinesic\")\n",
    "        kinesic.set(\"type\", \"applause\")\n",
    "        desc = SubElement(kinesic, \"desc\")\n",
    "        desc.text = text\n",
    "        return kinesic\n",
    "    else:\n",
    "        assert name == \"Note_time\"\n",
    "        note = Element(\"note\")\n",
    "        note.set(\"type\", \"time\")\n",
    "        note.text = text\n",
    "        return note\n",
    "    "
   ]
  },
  {
   "cell_type": "code",
   "execution_count": null,
   "metadata": {},
   "outputs": [
    {
     "data": {
      "text/plain": [
       "'<?xml version=\"1.0\" ?>\\n<div type=\"debateSection\">\\n\\t<u who=\"#ŠoljićVladimir\" ana=\"#chair\" xml:id=\"ParlaMint-BIH_DN.T2.S03.u47\" n=\"0\">\\n\\t\\t\\n\\t\\t\\t\\t\\t\\n\\t\\t<seg xml:id=\"ParlaMint-BIH_DN.T2.S03.u47.s0\">Gospodo, Otvaram 3. sjednicu Doma naroda Parlamentarne skupštine Bosne i Hercegovine, ispričavam se za ovo malo zakašnjenje, bilo je uzrokovano raznim razlozima, uključujući i tehničke razloge.</seg>\\n\\t\\t\\n\\t\\t\\t\\t\\t\\n\\t\\t<seg xml:id=\"ParlaMint-BIH_DN.T2.S03.u47.s1\">Pozdravljam sve nazočne zastupnike, predstavnike institucija i organa Bosne i Hercegovine, Federacije BiH i Republike Srpske, predstavnike međunarodne zajednice, te sredstva javnog informiranja.</seg>\\n\\t\\t\\n\\t\\t\\t\\t\\t\\n\\t\\t<seg xml:id=\"ParlaMint-BIH_DN.T2.S03.u47.s2\">Konstatiram da današnjoj sjednici prisustvuju, praktički, svi zastupnici uz napomenu da iz bošnjačke delegacije nedostaje gospodin Ćeman, ali on je u međuvremenu podnio ostavku, slijedi zamjena o čemu ćete biti upoznati u tijeku dnevnog reda.</seg>\\n\\t\\t\\n\\t\\t\\t\\t\\t\\n\\t\\t<seg xml:id=\"ParlaMint-BIH_DN.T2.S03.u47.s3\">Predlažem dnevni red koji ste dobili uz poziv, uz manje dopune uzrokovane zahtjevima OHR-a, odnosno, gospodina Vestendorpa, a koji su vezani za rokove iz Madridske deklaracije.</seg>\\n\\t\\t\\n\\t\\t\\t\\t\\t\\n\\t\\t<seg xml:id=\"ParlaMint-BIH_DN.T2.S03.u47.s4\">U sklopu toga, neke informacije i pitanja mogu biti u sklopu tačke Razno, odnosno tačke Pitanja izaslanika.</seg>\\n\\t\\t\\n\\t\\t\\t\\t\\t\\n\\t\\t<seg xml:id=\"ParlaMint-BIH_DN.T2.S03.u47.s5\">Dnevni red ste dobili u prilogu poziva, dozvolite da ja kažem šta je bila dopuna, a onda da se izjasnimo o dnevnom redu u cjelini.</seg>\\n\\t\\t\\n\\t\\t\\t\\t\\t\\n\\t\\t<seg xml:id=\"ParlaMint-BIH_DN.T2.S03.u47.s6\">Vi ste dobili sljedeći dnevni red: 1. Usvajanje Zapisnika sa 2. sjednice Doma naroda PSBiH, 2. Verifikacija mandata nove dvojice zastupnika, to je dopuna dnevnog reda, 3. Nacrt zakona o himni Bosne i Hercegovine, ovdje piše državnoj, ali je bilo nekih zahtjeva i promjena imena, tako da o tome možete čuti kasnije.</seg>\\n\\t\\t\\n\\t\\t\\t\\t\\t\\n\\t\\t<seg xml:id=\"ParlaMint-BIH_DN.T2.S03.u47.s7\">S posebnim zadovoljstvom pozdravljam upravo pridošle članove Vijeća ministara BiH i gospodina Šumahera.</seg>\\n\\t\\t\\n\\t\\t\\t\\t\\t\\n\\t\\t<seg xml:id=\"ParlaMint-BIH_DN.T2.S03.u47.s8\">Ja sam imao samo dvije rečenice, pa bih htio, obzirom da je ovo delegacija koju imamo čast pozdraviti, i ovo o čemu danas raspravljamo...</seg>\\n\\t\\t\\n\\t\\t\\t\\t\\t\\n\\t\\t<seg xml:id=\"ParlaMint-BIH_DN.T2.S03.u47.s9\">Naime, svi su ranije dobili poziv sa dnevnim redom.</seg>\\n\\t\\t\\n\\t\\t\\t\\t\\t\\n\\t\\t<seg xml:id=\"ParlaMint-BIH_DN.T2.S03.u47.s10\">Zbog zahtjeva OHR-a, odnosno gospodina Vestendorpa, i nastale okolnosti glede izbora dva zastupnika u Domu naroda, biće nekih manjih izmjena, a to su: Da će točka 2. biti verifikacija mandata dvojice novih zastupnika – izaslanika.</seg>\\n\\t\\t\\n\\t\\t\\t\\t\\t\\n\\t\\t<seg xml:id=\"ParlaMint-BIH_DN.T2.S03.u47.s11\">Tačka 3. biće sadašnja točka 2. iz dnevnog reda, to znači – Nacrt zakona o himni Bosne i Hercegovine.</seg>\\n\\t\\t\\n\\t\\t\\t\\t\\t\\n\\t\\t<seg xml:id=\"ParlaMint-BIH_DN.T2.S03.u47.s12\">Tačka 4. biće – Prijedlog zakona o izmjenama Zakona o imunitetu.</seg>\\n\\t\\t\\n\\t\\t\\t\\t\\t\\n\\t\\t<seg xml:id=\"ParlaMint-BIH_DN.T2.S03.u47.s13\">Tačka 5. Izbor izaslanika Parlamentarne skupštine Bosne u Organizaciju OSCE, ...</seg>\\n\\t\\t\\n\\t\\t\\t\\t\\t\\n\\t\\t<seg xml:id=\"ParlaMint-BIH_DN.T2.S03.u47.s14\">Interparlamentarne grupe Bosne i Hercegovine ... i Parlamentarnu skupštinu Savjeta Evrope.</seg>\\n\\t\\t\\n\\t\\t\\t\\t\\t\\n\\t\\t<seg xml:id=\"ParlaMint-BIH_DN.T2.S03.u47.s15\">Tačka 6. – Donošenje odluke o osnivanju privremenog tajništva Parlamentarne skupštine Bosne i Hercegovine, 2 7. Nacrt okvirnog zakona o privatizaciji poduzeća i banaka, 8. Izaslanička pitanja u koja će biti uključeno i razno.</seg>\\n\\t\\t\\n\\t\\t\\t\\t\\t\\n\\t\\t<seg xml:id=\"ParlaMint-BIH_DN.T2.S03.u47.s16\">Ima li prijedloga za izmjenu ili dopunu dnevnog reda?</seg>\\n\\t\\t\\n\\t\\t\\t\\t\\t\\n\\t\\t<seg xml:id=\"ParlaMint-BIH_DN.T2.S03.u47.s17\">Izvolite, gospodine Zoriću.</seg>\\n\\t\\t\\n\\t\\t\\t\\t\\n\\t</u>\\n\\t\\n\\t\\t\\t\\t\\n</div>\\n'"
      ]
     },
     "execution_count": 14,
     "metadata": {},
     "output_type": "execute_result"
    }
   ],
   "source": [
    "div = Element(\"div\")\n",
    "div.set(\"type\", \"debateSection\")\n",
    "div.append(firstu)\n",
    "pretty_string(div)"
   ]
  },
  {
   "cell_type": "code",
   "execution_count": null,
   "metadata": {},
   "outputs": [],
   "source": []
  }
 ],
 "metadata": {
  "kernelspec": {
   "display_name": "base",
   "language": "python",
   "name": "python3"
  },
  "language_info": {
   "codemirror_mode": {
    "name": "ipython",
    "version": 3
   },
   "file_extension": ".py",
   "mimetype": "text/x-python",
   "name": "python",
   "nbconvert_exporter": "python",
   "pygments_lexer": "ipython3",
   "version": "3.9.7"
  },
  "orig_nbformat": 4,
  "vscode": {
   "interpreter": {
    "hash": "2d30c88cb7145d662123f76f8c64609bc18e52940d2861adec2407b68f2e334f"
   }
  }
 },
 "nbformat": 4,
 "nbformat_minor": 2
}
